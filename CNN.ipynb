{
 "cells": [
  {
   "cell_type": "code",
   "execution_count": 1,
   "id": "2ed97ab3-afcf-429a-8adb-4a9dd4ba3ab3",
   "metadata": {
    "tags": []
   },
   "outputs": [
    {
     "name": "stdout",
     "output_type": "stream",
     "text": [
      "Number of cat images: 12499\n",
      "Number of dog images: 12499\n"
     ]
    }
   ],
   "source": [
    "import os\n",
    "\n",
    "base_dir = r\"C:\\Users\\omi_i\\Downloads\\archive\\PetImages\"\n",
    "cats_dir = os.path.join(base_dir, \"Cat\")\n",
    "dogs_dir = os.path.join(base_dir, \"Dog\")\n",
    "\n",
    "print(\"Number of cat images:\", len(os.listdir(cats_dir)))\n",
    "print(\"Number of dog images:\", len(os.listdir(dogs_dir)))\n"
   ]
  },
  {
   "cell_type": "code",
   "execution_count": 12,
   "id": "95af9af0-a7c7-4b8a-a5b2-8c5dac2768e8",
   "metadata": {
    "tags": []
   },
   "outputs": [
    {
     "name": "stdout",
     "output_type": "stream",
     "text": [
      "Found 24824 files belonging to 2 classes.\n",
      "Using 17377 files for training.\n",
      "Found 24824 files belonging to 2 classes.\n",
      "Using 4964 files for validation.\n",
      "Classes: ['Cat', 'Dog']\n"
     ]
    }
   ],
   "source": [
    "import tensorflow as tf\n",
    "\n",
    "img_size = (128, 128)\n",
    "batch_size = 32\n",
    "\n",
    "train_ds = tf.keras.utils.image_dataset_from_directory(\n",
    "    base_dir,\n",
    "    validation_split=0.3,\n",
    "    subset=\"training\",\n",
    "    seed=123,\n",
    "    image_size=img_size,\n",
    "    batch_size=batch_size\n",
    ")\n",
    "\n",
    "val_ds = tf.keras.utils.image_dataset_from_directory(\n",
    "    base_dir,\n",
    "    validation_split=0.2,\n",
    "    subset=\"validation\",\n",
    "    seed=123,\n",
    "    image_size=img_size,\n",
    "    batch_size=batch_size\n",
    ")\n",
    "\n",
    "class_names = train_ds.class_names\n",
    "print(\"Classes:\", class_names)\n"
   ]
  },
  {
   "cell_type": "code",
   "execution_count": 3,
   "id": "48a3953c-f952-4a31-8027-4e198fd51436",
   "metadata": {
    "tags": []
   },
   "outputs": [
    {
     "name": "stdout",
     "output_type": "stream",
     "text": [
      "Removed 0 corrupted images from C:\\Users\\omi_i\\Downloads\\archive\\PetImages\\Cat\n"
     ]
    },
    {
     "name": "stderr",
     "output_type": "stream",
     "text": [
      "C:\\Users\\omi_i\\anaconda3\\Lib\\site-packages\\PIL\\TiffImagePlugin.py:858: UserWarning: Truncated File Read\n",
      "  warnings.warn(str(msg))\n"
     ]
    },
    {
     "name": "stdout",
     "output_type": "stream",
     "text": [
      "Removed 0 corrupted images from C:\\Users\\omi_i\\Downloads\\archive\\PetImages\\Dog\n"
     ]
    }
   ],
   "source": [
    "from PIL import Image\n",
    "\n",
    "def clean_folder(folder):\n",
    "    removed = 0\n",
    "    for fname in os.listdir(folder):\n",
    "        fpath = os.path.join(folder, fname)\n",
    "        try:\n",
    "            img = Image.open(fpath)\n",
    "            img.verify()\n",
    "        except:\n",
    "            os.remove(fpath)\n",
    "            removed += 1\n",
    "    print(f\"Removed {removed} corrupted images from {folder}\")\n",
    "\n",
    "clean_folder(cats_dir)\n",
    "clean_folder(dogs_dir)\n"
   ]
  },
  {
   "cell_type": "code",
   "execution_count": 32,
   "id": "96444002-71d6-4291-bec8-af254ebe24bf",
   "metadata": {
    "tags": []
   },
   "outputs": [
    {
     "name": "stdout",
     "output_type": "stream",
     "text": [
      "Removed 0 corrupted images from C:\\Users\\omi_i\\Downloads\\archive\\PetImages\\Cat\n",
      "Removing corrupted: C:\\Users\\omi_i\\Downloads\\archive\\PetImages\\Dog\\2050.jpg\n",
      "Removing corrupted: C:\\Users\\omi_i\\Downloads\\archive\\PetImages\\Dog\\9942.jpg\n",
      "Removed 2 corrupted images from C:\\Users\\omi_i\\Downloads\\archive\\PetImages\\Dog\n"
     ]
    }
   ],
   "source": [
    "def strict_clean_folder(folder):\n",
    "    removed = 0\n",
    "    for fname in os.listdir(folder):\n",
    "        fpath = os.path.join(folder, fname)\n",
    "        try:\n",
    "            raw = tf.io.read_file(fpath)\n",
    "            img = tf.image.decode_jpeg(raw, channels=3)  # force 3 channels\n",
    "        except:\n",
    "            print(\"Removing corrupted:\", fpath)\n",
    "            os.remove(fpath)\n",
    "            removed += 1\n",
    "    print(f\"Removed {removed} corrupted images from {folder}\")\n",
    "\n",
    "cats_dir = r\"C:\\Users\\omi_i\\Downloads\\archive\\PetImages\\Cat\"\n",
    "dogs_dir = r\"C:\\Users\\omi_i\\Downloads\\archive\\PetImages\\Dog\"\n",
    "\n",
    "strict_clean_folder(cats_dir)\n",
    "strict_clean_folder(dogs_dir)"
   ]
  },
  {
   "cell_type": "code",
   "execution_count": 13,
   "id": "411c7140-4354-4933-8ddd-a192ca7ec481",
   "metadata": {
    "tags": []
   },
   "outputs": [],
   "source": [
    "from tensorflow import keras\n",
    "from tensorflow.keras import layers\n",
    "\n",
    "AUTOTUNE = tf.data.AUTOTUNE\n",
    "\n",
    "train_ds = train_ds.cache().shuffle(1000).prefetch(buffer_size=AUTOTUNE)\n",
    "val_ds = val_ds.cache().prefetch(buffer_size=AUTOTUNE)\n",
    "\n",
    "normalization_layer = layers.Rescaling(1./255) #--> normalizing(1-255)\n",
    "train_ds = train_ds.map(lambda x, y: (normalization_layer(x), y))\n",
    "val_ds = val_ds.map(lambda x, y: (normalization_layer(x), y))\n"
   ]
  },
  {
   "cell_type": "code",
   "execution_count": 14,
   "id": "88d02d8b-58c3-46d0-90d5-fdcc68517469",
   "metadata": {
    "tags": []
   },
   "outputs": [
    {
     "data": {
      "text/html": [
       "<pre style=\"white-space:pre;overflow-x:auto;line-height:normal;font-family:Menlo,'DejaVu Sans Mono',consolas,'Courier New',monospace\"><span style=\"font-weight: bold\">Model: \"sequential_1\"</span>\n",
       "</pre>\n"
      ],
      "text/plain": [
       "\u001b[1mModel: \"sequential_1\"\u001b[0m\n"
      ]
     },
     "metadata": {},
     "output_type": "display_data"
    },
    {
     "data": {
      "text/html": [
       "<pre style=\"white-space:pre;overflow-x:auto;line-height:normal;font-family:Menlo,'DejaVu Sans Mono',consolas,'Courier New',monospace\">┏━━━━━━━━━━━━━━━━━━━━━━━━━━━━━━━━━┳━━━━━━━━━━━━━━━━━━━━━━━━┳━━━━━━━━━━━━━━━┓\n",
       "┃<span style=\"font-weight: bold\"> Layer (type)                    </span>┃<span style=\"font-weight: bold\"> Output Shape           </span>┃<span style=\"font-weight: bold\">       Param # </span>┃\n",
       "┡━━━━━━━━━━━━━━━━━━━━━━━━━━━━━━━━━╇━━━━━━━━━━━━━━━━━━━━━━━━╇━━━━━━━━━━━━━━━┩\n",
       "│ conv2d_3 (<span style=\"color: #0087ff; text-decoration-color: #0087ff\">Conv2D</span>)               │ (<span style=\"color: #00d7ff; text-decoration-color: #00d7ff\">None</span>, <span style=\"color: #00af00; text-decoration-color: #00af00\">126</span>, <span style=\"color: #00af00; text-decoration-color: #00af00\">126</span>, <span style=\"color: #00af00; text-decoration-color: #00af00\">32</span>)   │           <span style=\"color: #00af00; text-decoration-color: #00af00\">896</span> │\n",
       "├─────────────────────────────────┼────────────────────────┼───────────────┤\n",
       "│ max_pooling2d_3 (<span style=\"color: #0087ff; text-decoration-color: #0087ff\">MaxPooling2D</span>)  │ (<span style=\"color: #00d7ff; text-decoration-color: #00d7ff\">None</span>, <span style=\"color: #00af00; text-decoration-color: #00af00\">63</span>, <span style=\"color: #00af00; text-decoration-color: #00af00\">63</span>, <span style=\"color: #00af00; text-decoration-color: #00af00\">32</span>)     │             <span style=\"color: #00af00; text-decoration-color: #00af00\">0</span> │\n",
       "├─────────────────────────────────┼────────────────────────┼───────────────┤\n",
       "│ conv2d_4 (<span style=\"color: #0087ff; text-decoration-color: #0087ff\">Conv2D</span>)               │ (<span style=\"color: #00d7ff; text-decoration-color: #00d7ff\">None</span>, <span style=\"color: #00af00; text-decoration-color: #00af00\">61</span>, <span style=\"color: #00af00; text-decoration-color: #00af00\">61</span>, <span style=\"color: #00af00; text-decoration-color: #00af00\">64</span>)     │        <span style=\"color: #00af00; text-decoration-color: #00af00\">18,496</span> │\n",
       "├─────────────────────────────────┼────────────────────────┼───────────────┤\n",
       "│ max_pooling2d_4 (<span style=\"color: #0087ff; text-decoration-color: #0087ff\">MaxPooling2D</span>)  │ (<span style=\"color: #00d7ff; text-decoration-color: #00d7ff\">None</span>, <span style=\"color: #00af00; text-decoration-color: #00af00\">30</span>, <span style=\"color: #00af00; text-decoration-color: #00af00\">30</span>, <span style=\"color: #00af00; text-decoration-color: #00af00\">64</span>)     │             <span style=\"color: #00af00; text-decoration-color: #00af00\">0</span> │\n",
       "├─────────────────────────────────┼────────────────────────┼───────────────┤\n",
       "│ conv2d_5 (<span style=\"color: #0087ff; text-decoration-color: #0087ff\">Conv2D</span>)               │ (<span style=\"color: #00d7ff; text-decoration-color: #00d7ff\">None</span>, <span style=\"color: #00af00; text-decoration-color: #00af00\">28</span>, <span style=\"color: #00af00; text-decoration-color: #00af00\">28</span>, <span style=\"color: #00af00; text-decoration-color: #00af00\">128</span>)    │        <span style=\"color: #00af00; text-decoration-color: #00af00\">73,856</span> │\n",
       "├─────────────────────────────────┼────────────────────────┼───────────────┤\n",
       "│ max_pooling2d_5 (<span style=\"color: #0087ff; text-decoration-color: #0087ff\">MaxPooling2D</span>)  │ (<span style=\"color: #00d7ff; text-decoration-color: #00d7ff\">None</span>, <span style=\"color: #00af00; text-decoration-color: #00af00\">14</span>, <span style=\"color: #00af00; text-decoration-color: #00af00\">14</span>, <span style=\"color: #00af00; text-decoration-color: #00af00\">128</span>)    │             <span style=\"color: #00af00; text-decoration-color: #00af00\">0</span> │\n",
       "├─────────────────────────────────┼────────────────────────┼───────────────┤\n",
       "│ flatten_1 (<span style=\"color: #0087ff; text-decoration-color: #0087ff\">Flatten</span>)             │ (<span style=\"color: #00d7ff; text-decoration-color: #00d7ff\">None</span>, <span style=\"color: #00af00; text-decoration-color: #00af00\">25088</span>)          │             <span style=\"color: #00af00; text-decoration-color: #00af00\">0</span> │\n",
       "├─────────────────────────────────┼────────────────────────┼───────────────┤\n",
       "│ dense_2 (<span style=\"color: #0087ff; text-decoration-color: #0087ff\">Dense</span>)                 │ (<span style=\"color: #00d7ff; text-decoration-color: #00d7ff\">None</span>, <span style=\"color: #00af00; text-decoration-color: #00af00\">128</span>)            │     <span style=\"color: #00af00; text-decoration-color: #00af00\">3,211,392</span> │\n",
       "├─────────────────────────────────┼────────────────────────┼───────────────┤\n",
       "│ dropout_1 (<span style=\"color: #0087ff; text-decoration-color: #0087ff\">Dropout</span>)             │ (<span style=\"color: #00d7ff; text-decoration-color: #00d7ff\">None</span>, <span style=\"color: #00af00; text-decoration-color: #00af00\">128</span>)            │             <span style=\"color: #00af00; text-decoration-color: #00af00\">0</span> │\n",
       "├─────────────────────────────────┼────────────────────────┼───────────────┤\n",
       "│ dense_3 (<span style=\"color: #0087ff; text-decoration-color: #0087ff\">Dense</span>)                 │ (<span style=\"color: #00d7ff; text-decoration-color: #00d7ff\">None</span>, <span style=\"color: #00af00; text-decoration-color: #00af00\">1</span>)              │           <span style=\"color: #00af00; text-decoration-color: #00af00\">129</span> │\n",
       "└─────────────────────────────────┴────────────────────────┴───────────────┘\n",
       "</pre>\n"
      ],
      "text/plain": [
       "┏━━━━━━━━━━━━━━━━━━━━━━━━━━━━━━━━━┳━━━━━━━━━━━━━━━━━━━━━━━━┳━━━━━━━━━━━━━━━┓\n",
       "┃\u001b[1m \u001b[0m\u001b[1mLayer (type)                   \u001b[0m\u001b[1m \u001b[0m┃\u001b[1m \u001b[0m\u001b[1mOutput Shape          \u001b[0m\u001b[1m \u001b[0m┃\u001b[1m \u001b[0m\u001b[1m      Param #\u001b[0m\u001b[1m \u001b[0m┃\n",
       "┡━━━━━━━━━━━━━━━━━━━━━━━━━━━━━━━━━╇━━━━━━━━━━━━━━━━━━━━━━━━╇━━━━━━━━━━━━━━━┩\n",
       "│ conv2d_3 (\u001b[38;5;33mConv2D\u001b[0m)               │ (\u001b[38;5;45mNone\u001b[0m, \u001b[38;5;34m126\u001b[0m, \u001b[38;5;34m126\u001b[0m, \u001b[38;5;34m32\u001b[0m)   │           \u001b[38;5;34m896\u001b[0m │\n",
       "├─────────────────────────────────┼────────────────────────┼───────────────┤\n",
       "│ max_pooling2d_3 (\u001b[38;5;33mMaxPooling2D\u001b[0m)  │ (\u001b[38;5;45mNone\u001b[0m, \u001b[38;5;34m63\u001b[0m, \u001b[38;5;34m63\u001b[0m, \u001b[38;5;34m32\u001b[0m)     │             \u001b[38;5;34m0\u001b[0m │\n",
       "├─────────────────────────────────┼────────────────────────┼───────────────┤\n",
       "│ conv2d_4 (\u001b[38;5;33mConv2D\u001b[0m)               │ (\u001b[38;5;45mNone\u001b[0m, \u001b[38;5;34m61\u001b[0m, \u001b[38;5;34m61\u001b[0m, \u001b[38;5;34m64\u001b[0m)     │        \u001b[38;5;34m18,496\u001b[0m │\n",
       "├─────────────────────────────────┼────────────────────────┼───────────────┤\n",
       "│ max_pooling2d_4 (\u001b[38;5;33mMaxPooling2D\u001b[0m)  │ (\u001b[38;5;45mNone\u001b[0m, \u001b[38;5;34m30\u001b[0m, \u001b[38;5;34m30\u001b[0m, \u001b[38;5;34m64\u001b[0m)     │             \u001b[38;5;34m0\u001b[0m │\n",
       "├─────────────────────────────────┼────────────────────────┼───────────────┤\n",
       "│ conv2d_5 (\u001b[38;5;33mConv2D\u001b[0m)               │ (\u001b[38;5;45mNone\u001b[0m, \u001b[38;5;34m28\u001b[0m, \u001b[38;5;34m28\u001b[0m, \u001b[38;5;34m128\u001b[0m)    │        \u001b[38;5;34m73,856\u001b[0m │\n",
       "├─────────────────────────────────┼────────────────────────┼───────────────┤\n",
       "│ max_pooling2d_5 (\u001b[38;5;33mMaxPooling2D\u001b[0m)  │ (\u001b[38;5;45mNone\u001b[0m, \u001b[38;5;34m14\u001b[0m, \u001b[38;5;34m14\u001b[0m, \u001b[38;5;34m128\u001b[0m)    │             \u001b[38;5;34m0\u001b[0m │\n",
       "├─────────────────────────────────┼────────────────────────┼───────────────┤\n",
       "│ flatten_1 (\u001b[38;5;33mFlatten\u001b[0m)             │ (\u001b[38;5;45mNone\u001b[0m, \u001b[38;5;34m25088\u001b[0m)          │             \u001b[38;5;34m0\u001b[0m │\n",
       "├─────────────────────────────────┼────────────────────────┼───────────────┤\n",
       "│ dense_2 (\u001b[38;5;33mDense\u001b[0m)                 │ (\u001b[38;5;45mNone\u001b[0m, \u001b[38;5;34m128\u001b[0m)            │     \u001b[38;5;34m3,211,392\u001b[0m │\n",
       "├─────────────────────────────────┼────────────────────────┼───────────────┤\n",
       "│ dropout_1 (\u001b[38;5;33mDropout\u001b[0m)             │ (\u001b[38;5;45mNone\u001b[0m, \u001b[38;5;34m128\u001b[0m)            │             \u001b[38;5;34m0\u001b[0m │\n",
       "├─────────────────────────────────┼────────────────────────┼───────────────┤\n",
       "│ dense_3 (\u001b[38;5;33mDense\u001b[0m)                 │ (\u001b[38;5;45mNone\u001b[0m, \u001b[38;5;34m1\u001b[0m)              │           \u001b[38;5;34m129\u001b[0m │\n",
       "└─────────────────────────────────┴────────────────────────┴───────────────┘\n"
      ]
     },
     "metadata": {},
     "output_type": "display_data"
    },
    {
     "data": {
      "text/html": [
       "<pre style=\"white-space:pre;overflow-x:auto;line-height:normal;font-family:Menlo,'DejaVu Sans Mono',consolas,'Courier New',monospace\"><span style=\"font-weight: bold\"> Total params: </span><span style=\"color: #00af00; text-decoration-color: #00af00\">3,304,769</span> (12.61 MB)\n",
       "</pre>\n"
      ],
      "text/plain": [
       "\u001b[1m Total params: \u001b[0m\u001b[38;5;34m3,304,769\u001b[0m (12.61 MB)\n"
      ]
     },
     "metadata": {},
     "output_type": "display_data"
    },
    {
     "data": {
      "text/html": [
       "<pre style=\"white-space:pre;overflow-x:auto;line-height:normal;font-family:Menlo,'DejaVu Sans Mono',consolas,'Courier New',monospace\"><span style=\"font-weight: bold\"> Trainable params: </span><span style=\"color: #00af00; text-decoration-color: #00af00\">3,304,769</span> (12.61 MB)\n",
       "</pre>\n"
      ],
      "text/plain": [
       "\u001b[1m Trainable params: \u001b[0m\u001b[38;5;34m3,304,769\u001b[0m (12.61 MB)\n"
      ]
     },
     "metadata": {},
     "output_type": "display_data"
    },
    {
     "data": {
      "text/html": [
       "<pre style=\"white-space:pre;overflow-x:auto;line-height:normal;font-family:Menlo,'DejaVu Sans Mono',consolas,'Courier New',monospace\"><span style=\"font-weight: bold\"> Non-trainable params: </span><span style=\"color: #00af00; text-decoration-color: #00af00\">0</span> (0.00 B)\n",
       "</pre>\n"
      ],
      "text/plain": [
       "\u001b[1m Non-trainable params: \u001b[0m\u001b[38;5;34m0\u001b[0m (0.00 B)\n"
      ]
     },
     "metadata": {},
     "output_type": "display_data"
    }
   ],
   "source": [
    "#CNN Model\n",
    "\n",
    "model = keras.Sequential([\n",
    "    layers.Conv2D(32, (3,3), activation='relu', input_shape=(128,128,3)),\n",
    "    layers.MaxPooling2D(2,2),\n",
    "    layers.Conv2D(64, (3,3), activation='relu'),\n",
    "    layers.MaxPooling2D(2,2),\n",
    "    layers.Conv2D(128, (3,3), activation='relu'),\n",
    "    layers.MaxPooling2D(2,2),\n",
    "    layers.Flatten(),\n",
    "    layers.Dense(128, activation='relu'),\n",
    "    layers.Dropout(0.5),\n",
    "    layers.Dense(1, activation='sigmoid')   # binary classification\n",
    "])\n",
    "\n",
    "model.compile(optimizer='adam',\n",
    "              loss='binary_crossentropy',\n",
    "              metrics=['accuracy'])\n",
    "\n",
    "model.summary()"
   ]
  },
  {
   "cell_type": "code",
   "execution_count": 15,
   "id": "2737d692-94fd-4f10-b327-38bf53805ee0",
   "metadata": {
    "tags": []
   },
   "outputs": [
    {
     "name": "stdout",
     "output_type": "stream",
     "text": [
      "Epoch 1/7\n",
      "\u001b[1m544/544\u001b[0m \u001b[32m━━━━━━━━━━━━━━━━━━━━\u001b[0m\u001b[37m\u001b[0m \u001b[1m281s\u001b[0m 451ms/step - accuracy: 0.5798 - loss: 0.6722 - val_accuracy: 0.6972 - val_loss: 0.5811\n",
      "Epoch 2/7\n",
      "\u001b[1m544/544\u001b[0m \u001b[32m━━━━━━━━━━━━━━━━━━━━\u001b[0m\u001b[37m\u001b[0m \u001b[1m228s\u001b[0m 419ms/step - accuracy: 0.7410 - loss: 0.5302 - val_accuracy: 0.7732 - val_loss: 0.4807\n",
      "Epoch 3/7\n",
      "\u001b[1m544/544\u001b[0m \u001b[32m━━━━━━━━━━━━━━━━━━━━\u001b[0m\u001b[37m\u001b[0m \u001b[1m214s\u001b[0m 394ms/step - accuracy: 0.7897 - loss: 0.4469 - val_accuracy: 0.8060 - val_loss: 0.4210\n",
      "Epoch 4/7\n",
      "\u001b[1m544/544\u001b[0m \u001b[32m━━━━━━━━━━━━━━━━━━━━\u001b[0m\u001b[37m\u001b[0m \u001b[1m224s\u001b[0m 411ms/step - accuracy: 0.8376 - loss: 0.3666 - val_accuracy: 0.8276 - val_loss: 0.3806\n",
      "Epoch 5/7\n",
      "\u001b[1m544/544\u001b[0m \u001b[32m━━━━━━━━━━━━━━━━━━━━\u001b[0m\u001b[37m\u001b[0m \u001b[1m218s\u001b[0m 400ms/step - accuracy: 0.8670 - loss: 0.3094 - val_accuracy: 0.8322 - val_loss: 0.3929\n",
      "Epoch 6/7\n",
      "\u001b[1m544/544\u001b[0m \u001b[32m━━━━━━━━━━━━━━━━━━━━\u001b[0m\u001b[37m\u001b[0m \u001b[1m131s\u001b[0m 240ms/step - accuracy: 0.8944 - loss: 0.2481 - val_accuracy: 0.8282 - val_loss: 0.4442\n",
      "Epoch 7/7\n",
      "\u001b[1m544/544\u001b[0m \u001b[32m━━━━━━━━━━━━━━━━━━━━\u001b[0m\u001b[37m\u001b[0m \u001b[1m144s\u001b[0m 264ms/step - accuracy: 0.9245 - loss: 0.1926 - val_accuracy: 0.8525 - val_loss: 0.3766\n"
     ]
    }
   ],
   "source": [
    "history = model.fit(\n",
    "    train_ds,\n",
    "    validation_data=val_ds,\n",
    "    epochs=7\n",
    ")"
   ]
  },
  {
   "cell_type": "code",
   "execution_count": 16,
   "id": "07aa211a-b7d7-4f44-b0ae-ea449a228754",
   "metadata": {
    "tags": []
   },
   "outputs": [
    {
     "name": "stderr",
     "output_type": "stream",
     "text": [
      "WARNING:absl:You are saving your model as an HDF5 file via `model.save()` or `keras.saving.save_model(model)`. This file format is considered legacy. We recommend using instead the native Keras format, e.g. `model.save('my_model.keras')` or `keras.saving.save_model(model, 'my_model.keras')`. \n"
     ]
    }
   ],
   "source": [
    "model.save(\"cats_dogs_cnn.h5\")\n"
   ]
  },
  {
   "cell_type": "code",
   "execution_count": 17,
   "id": "39b77014-a25d-43f5-8b05-e86fb3b0897f",
   "metadata": {
    "tags": []
   },
   "outputs": [
    {
     "name": "stdout",
     "output_type": "stream",
     "text": [
      "\u001b[1m156/156\u001b[0m \u001b[32m━━━━━━━━━━━━━━━━━━━━\u001b[0m\u001b[37m\u001b[0m \u001b[1m7s\u001b[0m 46ms/step - accuracy: 0.8627 - loss: 0.3628\n",
      "Final Validation Accuracy: 85.25%\n"
     ]
    }
   ],
   "source": [
    "loss, acc = model.evaluate(val_ds)\n",
    "print(f\"Final Validation Accuracy: {acc*100:.2f}%\")"
   ]
  },
  {
   "cell_type": "code",
   "execution_count": 18,
   "id": "36af0596-d0df-4105-a0fb-919429379f86",
   "metadata": {
    "tags": []
   },
   "outputs": [
    {
     "data": {
      "image/png": "[encoded data removed]",
      "text/plain": [
       "<Figure size 640x480 with 1 Axes>"
      ]
     },
     "metadata": {},
     "output_type": "display_data"
    },
    {
     "data": {
      "image/png": "[encoded data removed]",
      "text/plain": [
       "<Figure size 640x480 with 1 Axes>"
      ]
     },
     "metadata": {},
     "output_type": "display_data"
    }
   ],
   "source": [
    "import matplotlib.pyplot as plt\n",
    "\n",
    "plt.plot(history.history['accuracy'], label='Train Accuracy')\n",
    "plt.plot(history.history['val_accuracy'], label='Val Accuracy')\n",
    "plt.legend()\n",
    "plt.show()\n",
    "\n",
    "plt.plot(history.history['loss'], label='Train Loss')\n",
    "plt.plot(history.history['val_loss'], label='Val Loss')\n",
    "plt.legend()\n",
    "plt.show()"
   ]
  },
  {
   "cell_type": "code",
   "execution_count": 19,
   "id": "e49238d7-7a1d-4ae5-bcfb-e1ca08c711ed",
   "metadata": {
    "tags": []
   },
   "outputs": [
    {
     "name": "stderr",
     "output_type": "stream",
     "text": [
      "WARNING:absl:Compiled the loaded model, but the compiled metrics have yet to be built. `model.compile_metrics` will be empty until you train or evaluate the model.\n"
     ]
    }
   ],
   "source": [
    "from tensorflow.keras.models import load_model\n",
    "import numpy as np\n",
    "import cv2\n",
    "\n",
    "# Load trained CNN\n",
    "model = load_model(\"cats_dogs_cnn.h5\")"
   ]
  },
  {
   "cell_type": "code",
   "execution_count": 27,
   "id": "0c7a4d5b-fc33-4051-8966-832ff88c5f7c",
   "metadata": {
    "tags": []
   },
   "outputs": [],
   "source": [
    "img_path = r\"C:\\Users\\omi_i\\Downloads\\dog.jpg\"\n",
    "\n",
    "# Load and preprocess\n",
    "img = cv2.imread(img_path)\n",
    "img = cv2.resize(img, (128, 128))   # resize same as training\n",
    "img = img / 255.0                   # normalize\n",
    "img = np.expand_dims(img, axis=0)   # make batch of 1\n"
   ]
  },
  {
   "cell_type": "code",
   "execution_count": 29,
   "id": "6a237022-f138-4a28-9902-78854274c77b",
   "metadata": {
    "tags": []
   },
   "outputs": [
    {
     "name": "stderr",
     "output_type": "stream",
     "text": [
      "WARNING:absl:Compiled the loaded model, but the compiled metrics have yet to be built. `model.compile_metrics` will be empty until you train or evaluate the model.\n"
     ]
    },
    {
     "name": "stdout",
     "output_type": "stream",
     "text": [
      "\u001b[1m1/1\u001b[0m \u001b[32m━━━━━━━━━━━━━━━━━━━━\u001b[0m\u001b[37m\u001b[0m \u001b[1m0s\u001b[0m 91ms/step\n",
      "Prediction: Dog (confidence: 1.00)\n"
     ]
    }
   ],
   "source": [
    "from tensorflow.keras.models import load_model\n",
    "model = load_model(\"cats_dogs_cnn.h5\")\n",
    "class_names = [\"Cat\", \"Dog\"]\n",
    "\n",
    "def predict_image(img_path):\n",
    "    img = cv2.imread(img_path)\n",
    "    img = cv2.resize(img, (128, 128))\n",
    "    img = img / 255.0\n",
    "    img = np.expand_dims(img, axis=0)\n",
    "\n",
    "    prediction = model.predict(img)[0][0]\n",
    "    predicted_class = int(prediction > 0.5)\n",
    "    label = class_names[predicted_class]\n",
    "\n",
    "    print(f\"Prediction: {label} (confidence: {prediction:.2f})\")\n",
    "predict_image(r\"C:\\Users\\omi_i\\Downloads\\dog.jpg\")\n"
   ]
  },
  {
   "cell_type": "code",
   "execution_count": 28,
   "id": "ea946bc9-39b8-4c1b-9c3e-39de96ca5cff",
   "metadata": {
    "tags": []
   },
   "outputs": [
    {
     "name": "stdout",
     "output_type": "stream",
     "text": [
      "\u001b[1m1/1\u001b[0m \u001b[32m━━━━━━━━━━━━━━━━━━━━\u001b[0m\u001b[37m\u001b[0m \u001b[1m0s\u001b[0m 28ms/step\n",
      "Prediction: Cat (confidence: 1.00)\n"
     ]
    }
   ],
   "source": [
    "prediction = model.predict(img)[0][0]  # single value\n",
    "label = \"Cat\" if prediction > 0.5 else \"Dog\"\n",
    "\n",
    "print(f\"Prediction: {label} (confidence: {prediction:.2f})\")\n"
   ]
  },
  {
   "cell_type": "code",
   "execution_count": 50,
   "id": "7f0e63b1-4f13-4f49-a2cb-bf714f6adf29",
   "metadata": {
    "tags": []
   },
   "outputs": [
    {
     "name": "stdout",
     "output_type": "stream",
     "text": [
      "\u001b[1m1/1\u001b[0m \u001b[32m━━━━━━━━━━━━━━━━━━━━\u001b[0m\u001b[37m\u001b[0m \u001b[1m0s\u001b[0m 86ms/step\n",
      "Prediction: Cat (confidence: 0.00)\n"
     ]
    }
   ],
   "source": [
    "img_path = r\"C:\\Users\\omi_i\\Downloads\\dd.jpg\"\n",
    "img = cv2.imread(img_path)\n",
    "img = cv2.cvtColor(img, cv2.COLOR_BGR2RGB)  # Optional: OpenCV loads as BGR\n",
    "img = cv2.resize(img, (128, 128))\n",
    "img = img / 255.0\n",
    "img = np.expand_dims(img, axis=0)\n",
    "prediction = model.predict(img)[0][0]\n",
    "label = \"Dog\" if prediction > 0.5 else \"Cat\"\n",
    "print(f\"Prediction: {label} (confidence: {prediction:.2f})\")\n"
   ]
  },
  {
   "cell_type": "code",
   "execution_count": 33,
   "id": "42ee08e1-f971-4412-896e-b9a12e8a177c",
   "metadata": {
    "tags": []
   },
   "outputs": [
    {
     "name": "stdout",
     "output_type": "stream",
     "text": [
      "Number of cat images: 12427\n",
      "Number of dog images: 12395\n",
      "Removing corrupted: C:\\Users\\omi_i\\Downloads\\archive\\PetImages\\Cat\\10125.jpg\n",
      "Removing corrupted: C:\\Users\\omi_i\\Downloads\\archive\\PetImages\\Cat\\10501.jpg\n",
      "Removing corrupted: C:\\Users\\omi_i\\Downloads\\archive\\PetImages\\Cat\\10820.jpg\n",
      "Removing corrupted: C:\\Users\\omi_i\\Downloads\\archive\\PetImages\\Cat\\11210.jpg\n",
      "Removing corrupted: C:\\Users\\omi_i\\Downloads\\archive\\PetImages\\Cat\\11565.jpg\n",
      "Removing corrupted: C:\\Users\\omi_i\\Downloads\\archive\\PetImages\\Cat\\11874.jpg\n",
      "Removing corrupted: C:\\Users\\omi_i\\Downloads\\archive\\PetImages\\Cat\\11935.jpg\n",
      "Removing corrupted: C:\\Users\\omi_i\\Downloads\\archive\\PetImages\\Cat\\140.jpg\n",
      "Removing corrupted: C:\\Users\\omi_i\\Downloads\\archive\\PetImages\\Cat\\2663.jpg\n",
      "Removing corrupted: C:\\Users\\omi_i\\Downloads\\archive\\PetImages\\Cat\\3300.jpg\n",
      "Removing corrupted: C:\\Users\\omi_i\\Downloads\\archive\\PetImages\\Cat\\3491.jpg\n",
      "Removing corrupted: C:\\Users\\omi_i\\Downloads\\archive\\PetImages\\Cat\\4833.jpg\n",
      "Removing corrupted: C:\\Users\\omi_i\\Downloads\\archive\\PetImages\\Cat\\5553.jpg\n",
      "Removing corrupted: C:\\Users\\omi_i\\Downloads\\archive\\PetImages\\Cat\\660.jpg\n",
      "Removing corrupted: C:\\Users\\omi_i\\Downloads\\archive\\PetImages\\Cat\\7968.jpg\n",
      "Removing corrupted: C:\\Users\\omi_i\\Downloads\\archive\\PetImages\\Cat\\7978.jpg\n",
      "Removing corrupted: C:\\Users\\omi_i\\Downloads\\archive\\PetImages\\Cat\\8470.jpg\n",
      "Removing corrupted: C:\\Users\\omi_i\\Downloads\\archive\\PetImages\\Cat\\850.jpg\n",
      "Removing corrupted: C:\\Users\\omi_i\\Downloads\\archive\\PetImages\\Cat\\9171.jpg\n",
      "Removing corrupted: C:\\Users\\omi_i\\Downloads\\archive\\PetImages\\Cat\\936.jpg\n",
      "Removing corrupted: C:\\Users\\omi_i\\Downloads\\archive\\PetImages\\Cat\\9565.jpg\n",
      "Removing corrupted: C:\\Users\\omi_i\\Downloads\\archive\\PetImages\\Cat\\9778.jpg\n",
      "Removed 22 corrupted images from C:\\Users\\omi_i\\Downloads\\archive\\PetImages\\Cat\n",
      "Removing corrupted: C:\\Users\\omi_i\\Downloads\\archive\\PetImages\\Dog\\10158.jpg\n",
      "Removing corrupted: C:\\Users\\omi_i\\Downloads\\archive\\PetImages\\Dog\\10401.jpg\n",
      "Removing corrupted: C:\\Users\\omi_i\\Downloads\\archive\\PetImages\\Dog\\10747.jpg\n",
      "Removing corrupted: C:\\Users\\omi_i\\Downloads\\archive\\PetImages\\Dog\\10797.jpg\n",
      "Removing corrupted: C:\\Users\\omi_i\\Downloads\\archive\\PetImages\\Dog\\11410.jpg\n",
      "Removing corrupted: C:\\Users\\omi_i\\Downloads\\archive\\PetImages\\Dog\\11675.jpg\n",
      "Removing corrupted: C:\\Users\\omi_i\\Downloads\\archive\\PetImages\\Dog\\11849.jpg\n",
      "Removing corrupted: C:\\Users\\omi_i\\Downloads\\archive\\PetImages\\Dog\\11853.jpg\n",
      "Removing corrupted: C:\\Users\\omi_i\\Downloads\\archive\\PetImages\\Dog\\1308.jpg\n",
      "Removing corrupted: C:\\Users\\omi_i\\Downloads\\archive\\PetImages\\Dog\\1866.jpg\n",
      "Removing corrupted: C:\\Users\\omi_i\\Downloads\\archive\\PetImages\\Dog\\2384.jpg\n",
      "Removing corrupted: C:\\Users\\omi_i\\Downloads\\archive\\PetImages\\Dog\\2688.jpg\n",
      "Removing corrupted: C:\\Users\\omi_i\\Downloads\\archive\\PetImages\\Dog\\2877.jpg\n",
      "Removing corrupted: C:\\Users\\omi_i\\Downloads\\archive\\PetImages\\Dog\\3136.jpg\n",
      "Removing corrupted: C:\\Users\\omi_i\\Downloads\\archive\\PetImages\\Dog\\3288.jpg\n",
      "Removing corrupted: C:\\Users\\omi_i\\Downloads\\archive\\PetImages\\Dog\\3588.jpg\n",
      "Removing corrupted: C:\\Users\\omi_i\\Downloads\\archive\\PetImages\\Dog\\4367.jpg\n",
      "Removing corrupted: C:\\Users\\omi_i\\Downloads\\archive\\PetImages\\Dog\\5604.jpg\n",
      "Removing corrupted: C:\\Users\\omi_i\\Downloads\\archive\\PetImages\\Dog\\5736.jpg\n",
      "Removing corrupted: C:\\Users\\omi_i\\Downloads\\archive\\PetImages\\Dog\\6059.jpg\n",
      "Removing corrupted: C:\\Users\\omi_i\\Downloads\\archive\\PetImages\\Dog\\6238.jpg\n",
      "Removing corrupted: C:\\Users\\omi_i\\Downloads\\archive\\PetImages\\Dog\\6718.jpg\n",
      "Removing corrupted: C:\\Users\\omi_i\\Downloads\\archive\\PetImages\\Dog\\7112.jpg\n",
      "Removing corrupted: C:\\Users\\omi_i\\Downloads\\archive\\PetImages\\Dog\\7133.jpg\n",
      "Removing corrupted: C:\\Users\\omi_i\\Downloads\\archive\\PetImages\\Dog\\7369.jpg\n",
      "Removing corrupted: C:\\Users\\omi_i\\Downloads\\archive\\PetImages\\Dog\\7459.jpg\n",
      "Removing corrupted: C:\\Users\\omi_i\\Downloads\\archive\\PetImages\\Dog\\7969.jpg\n",
      "Removing corrupted: C:\\Users\\omi_i\\Downloads\\archive\\PetImages\\Dog\\8730.jpg\n",
      "Removing corrupted: C:\\Users\\omi_i\\Downloads\\archive\\PetImages\\Dog\\9188.jpg\n",
      "Removed 29 corrupted images from C:\\Users\\omi_i\\Downloads\\archive\\PetImages\\Dog\n",
      "Found 24771 files belonging to 2 classes.\n",
      "Using 19817 files for training.\n",
      "Found 24771 files belonging to 2 classes.\n",
      "Using 4954 files for validation.\n",
      "Classes: ['Cat', 'Dog']\n"
     ]
    },
    {
     "name": "stderr",
     "output_type": "stream",
     "text": [
      "C:\\Users\\omi_i\\anaconda3\\Lib\\site-packages\\keras\\src\\layers\\convolutional\\base_conv.py:107: UserWarning: Do not pass an `input_shape`/`input_dim` argument to a layer. When using Sequential models, prefer using an `Input(shape)` object as the first layer in the model instead.\n",
      "  super().__init__(activity_regularizer=activity_regularizer, **kwargs)\n"
     ]
    },
    {
     "data": {
      "text/html": [
       "<pre style=\"white-space:pre;overflow-x:auto;line-height:normal;font-family:Menlo,'DejaVu Sans Mono',consolas,'Courier New',monospace\"><span style=\"font-weight: bold\">Model: \"sequential_3\"</span>\n",
       "</pre>\n"
      ],
      "text/plain": [
       "\u001b[1mModel: \"sequential_3\"\u001b[0m\n"
      ]
     },
     "metadata": {},
     "output_type": "display_data"
    },
    {
     "data": {
      "text/html": [
       "<pre style=\"white-space:pre;overflow-x:auto;line-height:normal;font-family:Menlo,'DejaVu Sans Mono',consolas,'Courier New',monospace\">┏━━━━━━━━━━━━━━━━━━━━━━━━━━━━━━━━━┳━━━━━━━━━━━━━━━━━━━━━━━━┳━━━━━━━━━━━━━━━┓\n",
       "┃<span style=\"font-weight: bold\"> Layer (type)                    </span>┃<span style=\"font-weight: bold\"> Output Shape           </span>┃<span style=\"font-weight: bold\">       Param # </span>┃\n",
       "┡━━━━━━━━━━━━━━━━━━━━━━━━━━━━━━━━━╇━━━━━━━━━━━━━━━━━━━━━━━━╇━━━━━━━━━━━━━━━┩\n",
       "│ conv2d_6 (<span style=\"color: #0087ff; text-decoration-color: #0087ff\">Conv2D</span>)               │ (<span style=\"color: #00d7ff; text-decoration-color: #00d7ff\">None</span>, <span style=\"color: #00af00; text-decoration-color: #00af00\">126</span>, <span style=\"color: #00af00; text-decoration-color: #00af00\">126</span>, <span style=\"color: #00af00; text-decoration-color: #00af00\">32</span>)   │           <span style=\"color: #00af00; text-decoration-color: #00af00\">896</span> │\n",
       "├─────────────────────────────────┼────────────────────────┼───────────────┤\n",
       "│ batch_normalization             │ (<span style=\"color: #00d7ff; text-decoration-color: #00d7ff\">None</span>, <span style=\"color: #00af00; text-decoration-color: #00af00\">126</span>, <span style=\"color: #00af00; text-decoration-color: #00af00\">126</span>, <span style=\"color: #00af00; text-decoration-color: #00af00\">32</span>)   │           <span style=\"color: #00af00; text-decoration-color: #00af00\">128</span> │\n",
       "│ (<span style=\"color: #0087ff; text-decoration-color: #0087ff\">BatchNormalization</span>)            │                        │               │\n",
       "├─────────────────────────────────┼────────────────────────┼───────────────┤\n",
       "│ max_pooling2d_6 (<span style=\"color: #0087ff; text-decoration-color: #0087ff\">MaxPooling2D</span>)  │ (<span style=\"color: #00d7ff; text-decoration-color: #00d7ff\">None</span>, <span style=\"color: #00af00; text-decoration-color: #00af00\">63</span>, <span style=\"color: #00af00; text-decoration-color: #00af00\">63</span>, <span style=\"color: #00af00; text-decoration-color: #00af00\">32</span>)     │             <span style=\"color: #00af00; text-decoration-color: #00af00\">0</span> │\n",
       "├─────────────────────────────────┼────────────────────────┼───────────────┤\n",
       "│ conv2d_7 (<span style=\"color: #0087ff; text-decoration-color: #0087ff\">Conv2D</span>)               │ (<span style=\"color: #00d7ff; text-decoration-color: #00d7ff\">None</span>, <span style=\"color: #00af00; text-decoration-color: #00af00\">61</span>, <span style=\"color: #00af00; text-decoration-color: #00af00\">61</span>, <span style=\"color: #00af00; text-decoration-color: #00af00\">64</span>)     │        <span style=\"color: #00af00; text-decoration-color: #00af00\">18,496</span> │\n",
       "├─────────────────────────────────┼────────────────────────┼───────────────┤\n",
       "│ batch_normalization_1           │ (<span style=\"color: #00d7ff; text-decoration-color: #00d7ff\">None</span>, <span style=\"color: #00af00; text-decoration-color: #00af00\">61</span>, <span style=\"color: #00af00; text-decoration-color: #00af00\">61</span>, <span style=\"color: #00af00; text-decoration-color: #00af00\">64</span>)     │           <span style=\"color: #00af00; text-decoration-color: #00af00\">256</span> │\n",
       "│ (<span style=\"color: #0087ff; text-decoration-color: #0087ff\">BatchNormalization</span>)            │                        │               │\n",
       "├─────────────────────────────────┼────────────────────────┼───────────────┤\n",
       "│ max_pooling2d_7 (<span style=\"color: #0087ff; text-decoration-color: #0087ff\">MaxPooling2D</span>)  │ (<span style=\"color: #00d7ff; text-decoration-color: #00d7ff\">None</span>, <span style=\"color: #00af00; text-decoration-color: #00af00\">30</span>, <span style=\"color: #00af00; text-decoration-color: #00af00\">30</span>, <span style=\"color: #00af00; text-decoration-color: #00af00\">64</span>)     │             <span style=\"color: #00af00; text-decoration-color: #00af00\">0</span> │\n",
       "├─────────────────────────────────┼────────────────────────┼───────────────┤\n",
       "│ conv2d_8 (<span style=\"color: #0087ff; text-decoration-color: #0087ff\">Conv2D</span>)               │ (<span style=\"color: #00d7ff; text-decoration-color: #00d7ff\">None</span>, <span style=\"color: #00af00; text-decoration-color: #00af00\">28</span>, <span style=\"color: #00af00; text-decoration-color: #00af00\">28</span>, <span style=\"color: #00af00; text-decoration-color: #00af00\">128</span>)    │        <span style=\"color: #00af00; text-decoration-color: #00af00\">73,856</span> │\n",
       "├─────────────────────────────────┼────────────────────────┼───────────────┤\n",
       "│ batch_normalization_2           │ (<span style=\"color: #00d7ff; text-decoration-color: #00d7ff\">None</span>, <span style=\"color: #00af00; text-decoration-color: #00af00\">28</span>, <span style=\"color: #00af00; text-decoration-color: #00af00\">28</span>, <span style=\"color: #00af00; text-decoration-color: #00af00\">128</span>)    │           <span style=\"color: #00af00; text-decoration-color: #00af00\">512</span> │\n",
       "│ (<span style=\"color: #0087ff; text-decoration-color: #0087ff\">BatchNormalization</span>)            │                        │               │\n",
       "├─────────────────────────────────┼────────────────────────┼───────────────┤\n",
       "│ max_pooling2d_8 (<span style=\"color: #0087ff; text-decoration-color: #0087ff\">MaxPooling2D</span>)  │ (<span style=\"color: #00d7ff; text-decoration-color: #00d7ff\">None</span>, <span style=\"color: #00af00; text-decoration-color: #00af00\">14</span>, <span style=\"color: #00af00; text-decoration-color: #00af00\">14</span>, <span style=\"color: #00af00; text-decoration-color: #00af00\">128</span>)    │             <span style=\"color: #00af00; text-decoration-color: #00af00\">0</span> │\n",
       "├─────────────────────────────────┼────────────────────────┼───────────────┤\n",
       "│ flatten_2 (<span style=\"color: #0087ff; text-decoration-color: #0087ff\">Flatten</span>)             │ (<span style=\"color: #00d7ff; text-decoration-color: #00d7ff\">None</span>, <span style=\"color: #00af00; text-decoration-color: #00af00\">25088</span>)          │             <span style=\"color: #00af00; text-decoration-color: #00af00\">0</span> │\n",
       "├─────────────────────────────────┼────────────────────────┼───────────────┤\n",
       "│ dense_4 (<span style=\"color: #0087ff; text-decoration-color: #0087ff\">Dense</span>)                 │ (<span style=\"color: #00d7ff; text-decoration-color: #00d7ff\">None</span>, <span style=\"color: #00af00; text-decoration-color: #00af00\">128</span>)            │     <span style=\"color: #00af00; text-decoration-color: #00af00\">3,211,392</span> │\n",
       "├─────────────────────────────────┼────────────────────────┼───────────────┤\n",
       "│ dropout_2 (<span style=\"color: #0087ff; text-decoration-color: #0087ff\">Dropout</span>)             │ (<span style=\"color: #00d7ff; text-decoration-color: #00d7ff\">None</span>, <span style=\"color: #00af00; text-decoration-color: #00af00\">128</span>)            │             <span style=\"color: #00af00; text-decoration-color: #00af00\">0</span> │\n",
       "├─────────────────────────────────┼────────────────────────┼───────────────┤\n",
       "│ dense_5 (<span style=\"color: #0087ff; text-decoration-color: #0087ff\">Dense</span>)                 │ (<span style=\"color: #00d7ff; text-decoration-color: #00d7ff\">None</span>, <span style=\"color: #00af00; text-decoration-color: #00af00\">1</span>)              │           <span style=\"color: #00af00; text-decoration-color: #00af00\">129</span> │\n",
       "└─────────────────────────────────┴────────────────────────┴───────────────┘\n",
       "</pre>\n"
      ],
      "text/plain": [
       "┏━━━━━━━━━━━━━━━━━━━━━━━━━━━━━━━━━┳━━━━━━━━━━━━━━━━━━━━━━━━┳━━━━━━━━━━━━━━━┓\n",
       "┃\u001b[1m \u001b[0m\u001b[1mLayer (type)                   \u001b[0m\u001b[1m \u001b[0m┃\u001b[1m \u001b[0m\u001b[1mOutput Shape          \u001b[0m\u001b[1m \u001b[0m┃\u001b[1m \u001b[0m\u001b[1m      Param #\u001b[0m\u001b[1m \u001b[0m┃\n",
       "┡━━━━━━━━━━━━━━━━━━━━━━━━━━━━━━━━━╇━━━━━━━━━━━━━━━━━━━━━━━━╇━━━━━━━━━━━━━━━┩\n",
       "│ conv2d_6 (\u001b[38;5;33mConv2D\u001b[0m)               │ (\u001b[38;5;45mNone\u001b[0m, \u001b[38;5;34m126\u001b[0m, \u001b[38;5;34m126\u001b[0m, \u001b[38;5;34m32\u001b[0m)   │           \u001b[38;5;34m896\u001b[0m │\n",
       "├─────────────────────────────────┼────────────────────────┼───────────────┤\n",
       "│ batch_normalization             │ (\u001b[38;5;45mNone\u001b[0m, \u001b[38;5;34m126\u001b[0m, \u001b[38;5;34m126\u001b[0m, \u001b[38;5;34m32\u001b[0m)   │           \u001b[38;5;34m128\u001b[0m │\n",
       "│ (\u001b[38;5;33mBatchNormalization\u001b[0m)            │                        │               │\n",
       "├─────────────────────────────────┼────────────────────────┼───────────────┤\n",
       "│ max_pooling2d_6 (\u001b[38;5;33mMaxPooling2D\u001b[0m)  │ (\u001b[38;5;45mNone\u001b[0m, \u001b[38;5;34m63\u001b[0m, \u001b[38;5;34m63\u001b[0m, \u001b[38;5;34m32\u001b[0m)     │             \u001b[38;5;34m0\u001b[0m │\n",
       "├─────────────────────────────────┼────────────────────────┼───────────────┤\n",
       "│ conv2d_7 (\u001b[38;5;33mConv2D\u001b[0m)               │ (\u001b[38;5;45mNone\u001b[0m, \u001b[38;5;34m61\u001b[0m, \u001b[38;5;34m61\u001b[0m, \u001b[38;5;34m64\u001b[0m)     │        \u001b[38;5;34m18,496\u001b[0m │\n",
       "├─────────────────────────────────┼────────────────────────┼───────────────┤\n",
       "│ batch_normalization_1           │ (\u001b[38;5;45mNone\u001b[0m, \u001b[38;5;34m61\u001b[0m, \u001b[38;5;34m61\u001b[0m, \u001b[38;5;34m64\u001b[0m)     │           \u001b[38;5;34m256\u001b[0m │\n",
       "│ (\u001b[38;5;33mBatchNormalization\u001b[0m)            │                        │               │\n",
       "├─────────────────────────────────┼────────────────────────┼───────────────┤\n",
       "│ max_pooling2d_7 (\u001b[38;5;33mMaxPooling2D\u001b[0m)  │ (\u001b[38;5;45mNone\u001b[0m, \u001b[38;5;34m30\u001b[0m, \u001b[38;5;34m30\u001b[0m, \u001b[38;5;34m64\u001b[0m)     │             \u001b[38;5;34m0\u001b[0m │\n",
       "├─────────────────────────────────┼────────────────────────┼───────────────┤\n",
       "│ conv2d_8 (\u001b[38;5;33mConv2D\u001b[0m)               │ (\u001b[38;5;45mNone\u001b[0m, \u001b[38;5;34m28\u001b[0m, \u001b[38;5;34m28\u001b[0m, \u001b[38;5;34m128\u001b[0m)    │        \u001b[38;5;34m73,856\u001b[0m │\n",
       "├─────────────────────────────────┼────────────────────────┼───────────────┤\n",
       "│ batch_normalization_2           │ (\u001b[38;5;45mNone\u001b[0m, \u001b[38;5;34m28\u001b[0m, \u001b[38;5;34m28\u001b[0m, \u001b[38;5;34m128\u001b[0m)    │           \u001b[38;5;34m512\u001b[0m │\n",
       "│ (\u001b[38;5;33mBatchNormalization\u001b[0m)            │                        │               │\n",
       "├─────────────────────────────────┼────────────────────────┼───────────────┤\n",
       "│ max_pooling2d_8 (\u001b[38;5;33mMaxPooling2D\u001b[0m)  │ (\u001b[38;5;45mNone\u001b[0m, \u001b[38;5;34m14\u001b[0m, \u001b[38;5;34m14\u001b[0m, \u001b[38;5;34m128\u001b[0m)    │             \u001b[38;5;34m0\u001b[0m │\n",
       "├─────────────────────────────────┼────────────────────────┼───────────────┤\n",
       "│ flatten_2 (\u001b[38;5;33mFlatten\u001b[0m)             │ (\u001b[38;5;45mNone\u001b[0m, \u001b[38;5;34m25088\u001b[0m)          │             \u001b[38;5;34m0\u001b[0m │\n",
       "├─────────────────────────────────┼────────────────────────┼───────────────┤\n",
       "│ dense_4 (\u001b[38;5;33mDense\u001b[0m)                 │ (\u001b[38;5;45mNone\u001b[0m, \u001b[38;5;34m128\u001b[0m)            │     \u001b[38;5;34m3,211,392\u001b[0m │\n",
       "├─────────────────────────────────┼────────────────────────┼───────────────┤\n",
       "│ dropout_2 (\u001b[38;5;33mDropout\u001b[0m)             │ (\u001b[38;5;45mNone\u001b[0m, \u001b[38;5;34m128\u001b[0m)            │             \u001b[38;5;34m0\u001b[0m │\n",
       "├─────────────────────────────────┼────────────────────────┼───────────────┤\n",
       "│ dense_5 (\u001b[38;5;33mDense\u001b[0m)                 │ (\u001b[38;5;45mNone\u001b[0m, \u001b[38;5;34m1\u001b[0m)              │           \u001b[38;5;34m129\u001b[0m │\n",
       "└─────────────────────────────────┴────────────────────────┴───────────────┘\n"
      ]
     },
     "metadata": {},
     "output_type": "display_data"
    },
    {
     "data": {
      "text/html": [
       "<pre style=\"white-space:pre;overflow-x:auto;line-height:normal;font-family:Menlo,'DejaVu Sans Mono',consolas,'Courier New',monospace\"><span style=\"font-weight: bold\"> Total params: </span><span style=\"color: #00af00; text-decoration-color: #00af00\">3,305,665</span> (12.61 MB)\n",
       "</pre>\n"
      ],
      "text/plain": [
       "\u001b[1m Total params: \u001b[0m\u001b[38;5;34m3,305,665\u001b[0m (12.61 MB)\n"
      ]
     },
     "metadata": {},
     "output_type": "display_data"
    },
    {
     "data": {
      "text/html": [
       "<pre style=\"white-space:pre;overflow-x:auto;line-height:normal;font-family:Menlo,'DejaVu Sans Mono',consolas,'Courier New',monospace\"><span style=\"font-weight: bold\"> Trainable params: </span><span style=\"color: #00af00; text-decoration-color: #00af00\">3,305,217</span> (12.61 MB)\n",
       "</pre>\n"
      ],
      "text/plain": [
       "\u001b[1m Trainable params: \u001b[0m\u001b[38;5;34m3,305,217\u001b[0m (12.61 MB)\n"
      ]
     },
     "metadata": {},
     "output_type": "display_data"
    },
    {
     "data": {
      "text/html": [
       "<pre style=\"white-space:pre;overflow-x:auto;line-height:normal;font-family:Menlo,'DejaVu Sans Mono',consolas,'Courier New',monospace\"><span style=\"font-weight: bold\"> Non-trainable params: </span><span style=\"color: #00af00; text-decoration-color: #00af00\">448</span> (1.75 KB)\n",
       "</pre>\n"
      ],
      "text/plain": [
       "\u001b[1m Non-trainable params: \u001b[0m\u001b[38;5;34m448\u001b[0m (1.75 KB)\n"
      ]
     },
     "metadata": {},
     "output_type": "display_data"
    },
    {
     "name": "stdout",
     "output_type": "stream",
     "text": [
      "Epoch 1/15\n",
      "\u001b[1m620/620\u001b[0m \u001b[32m━━━━━━━━━━━━━━━━━━━━\u001b[0m\u001b[37m\u001b[0m \u001b[1m369s\u001b[0m 524ms/step - accuracy: 0.6081 - loss: 1.2049 - val_accuracy: 0.6237 - val_loss: 0.6270\n",
      "Epoch 2/15\n",
      "\u001b[1m620/620\u001b[0m \u001b[32m━━━━━━━━━━━━━━━━━━━━\u001b[0m\u001b[37m\u001b[0m \u001b[1m393s\u001b[0m 631ms/step - accuracy: 0.6908 - loss: 0.5865 - val_accuracy: 0.7582 - val_loss: 0.4934\n",
      "Epoch 3/15\n",
      "\u001b[1m620/620\u001b[0m \u001b[32m━━━━━━━━━━━━━━━━━━━━\u001b[0m\u001b[37m\u001b[0m \u001b[1m349s\u001b[0m 561ms/step - accuracy: 0.7344 - loss: 0.5388 - val_accuracy: 0.7673 - val_loss: 0.4813\n",
      "Epoch 4/15\n",
      "\u001b[1m620/620\u001b[0m \u001b[32m━━━━━━━━━━━━━━━━━━━━\u001b[0m\u001b[37m\u001b[0m \u001b[1m330s\u001b[0m 531ms/step - accuracy: 0.7624 - loss: 0.4960 - val_accuracy: 0.7685 - val_loss: 0.5081\n",
      "Epoch 5/15\n",
      "\u001b[1m620/620\u001b[0m \u001b[32m━━━━━━━━━━━━━━━━━━━━\u001b[0m\u001b[37m\u001b[0m \u001b[1m325s\u001b[0m 524ms/step - accuracy: 0.7878 - loss: 0.4582 - val_accuracy: 0.6562 - val_loss: 0.7941\n",
      "Epoch 6/15\n",
      "\u001b[1m620/620\u001b[0m \u001b[32m━━━━━━━━━━━━━━━━━━━━\u001b[0m\u001b[37m\u001b[0m \u001b[1m329s\u001b[0m 531ms/step - accuracy: 0.8207 - loss: 0.4174 - val_accuracy: 0.7620 - val_loss: 0.4925\n",
      "Epoch 7/15\n",
      "\u001b[1m620/620\u001b[0m \u001b[32m━━━━━━━━━━━━━━━━━━━━\u001b[0m\u001b[37m\u001b[0m \u001b[1m321s\u001b[0m 517ms/step - accuracy: 0.8277 - loss: 0.3872 - val_accuracy: 0.8147 - val_loss: 0.4110\n",
      "Epoch 8/15\n",
      "\u001b[1m620/620\u001b[0m \u001b[32m━━━━━━━━━━━━━━━━━━━━\u001b[0m\u001b[37m\u001b[0m \u001b[1m321s\u001b[0m 517ms/step - accuracy: 0.8362 - loss: 0.3790 - val_accuracy: 0.6954 - val_loss: 0.9664\n",
      "Epoch 9/15\n",
      "\u001b[1m620/620\u001b[0m \u001b[32m━━━━━━━━━━━━━━━━━━━━\u001b[0m\u001b[37m\u001b[0m \u001b[1m322s\u001b[0m 520ms/step - accuracy: 0.8517 - loss: 0.3500 - val_accuracy: 0.8088 - val_loss: 0.4660\n",
      "Epoch 10/15\n",
      "\u001b[1m620/620\u001b[0m \u001b[32m━━━━━━━━━━━━━━━━━━━━\u001b[0m\u001b[37m\u001b[0m \u001b[1m317s\u001b[0m 511ms/step - accuracy: 0.8625 - loss: 0.3338 - val_accuracy: 0.8149 - val_loss: 0.4226\n",
      "Epoch 11/15\n",
      "\u001b[1m620/620\u001b[0m \u001b[32m━━━━━━━━━━━━━━━━━━━━\u001b[0m\u001b[37m\u001b[0m \u001b[1m389s\u001b[0m 628ms/step - accuracy: 0.8555 - loss: 0.3369 - val_accuracy: 0.8173 - val_loss: 0.5769\n",
      "Epoch 12/15\n",
      "\u001b[1m620/620\u001b[0m \u001b[32m━━━━━━━━━━━━━━━━━━━━\u001b[0m\u001b[37m\u001b[0m \u001b[1m466s\u001b[0m 752ms/step - accuracy: 0.8606 - loss: 0.3186 - val_accuracy: 0.8617 - val_loss: 0.3588\n",
      "Epoch 13/15\n",
      "\u001b[1m620/620\u001b[0m \u001b[32m━━━━━━━━━━━━━━━━━━━━\u001b[0m\u001b[37m\u001b[0m \u001b[1m474s\u001b[0m 764ms/step - accuracy: 0.8817 - loss: 0.3003 - val_accuracy: 0.8583 - val_loss: 0.3341\n",
      "Epoch 14/15\n",
      "\u001b[1m620/620\u001b[0m \u001b[32m━━━━━━━━━━━━━━━━━━━━\u001b[0m\u001b[37m\u001b[0m \u001b[1m475s\u001b[0m 766ms/step - accuracy: 0.8760 - loss: 0.3051 - val_accuracy: 0.8694 - val_loss: 0.3064\n",
      "Epoch 15/15\n",
      "\u001b[1m620/620\u001b[0m \u001b[32m━━━━━━━━━━━━━━━━━━━━\u001b[0m\u001b[37m\u001b[0m \u001b[1m485s\u001b[0m 782ms/step - accuracy: 0.8852 - loss: 0.2763 - val_accuracy: 0.8468 - val_loss: 0.3349\n"
     ]
    },
    {
     "name": "stderr",
     "output_type": "stream",
     "text": [
      "WARNING:absl:You are saving your model as an HDF5 file via `model.save()` or `keras.saving.save_model(model)`. This file format is considered legacy. We recommend using instead the native Keras format, e.g. `model.save('my_model.keras')` or `keras.saving.save_model(model, 'my_model.keras')`. \n"
     ]
    },
    {
     "name": "stdout",
     "output_type": "stream",
     "text": [
      "\u001b[1m155/155\u001b[0m \u001b[32m━━━━━━━━━━━━━━━━━━━━\u001b[0m\u001b[37m\u001b[0m \u001b[1m28s\u001b[0m 178ms/step - accuracy: 0.8495 - loss: 0.3314\n",
      "Final Validation Accuracy: 84.68%\n",
      "\u001b[1m1/1\u001b[0m \u001b[32m━━━━━━━━━━━━━━━━━━━━\u001b[0m\u001b[37m\u001b[0m \u001b[1m1s\u001b[0m 650ms/step\n",
      "Prediction: Dog (confidence: 0.99)\n"
     ]
    }
   ],
   "source": [
    "base_dir = r\"C:\\Users\\omi_i\\Downloads\\archive\\PetImages\"\n",
    "cats_dir = os.path.join(base_dir, \"Cat\")\n",
    "dogs_dir = os.path.join(base_dir, \"Dog\")\n",
    "\n",
    "print(\"Number of cat images:\", len(os.listdir(cats_dir)))\n",
    "print(\"Number of dog images:\", len(os.listdir(dogs_dir)))\n",
    "\n",
    "def strict_clean_folder(folder):\n",
    "    removed = 0\n",
    "    for fname in os.listdir(folder):\n",
    "        fpath = os.path.join(folder, fname)\n",
    "        try:\n",
    "            # OpenCV check\n",
    "            img = cv2.imread(fpath)\n",
    "            if img is None:\n",
    "                raise ValueError(\"Cannot read image\")\n",
    "            # TensorFlow decode check\n",
    "            raw = tf.io.read_file(fpath)\n",
    "            tf.image.decode_jpeg(raw, channels=3)\n",
    "        except:\n",
    "            print(\"Removing corrupted:\", fpath)\n",
    "            os.remove(fpath)\n",
    "            removed += 1\n",
    "    print(f\"Removed {removed} corrupted images from {folder}\")\n",
    "\n",
    "strict_clean_folder(cats_dir)\n",
    "strict_clean_folder(dogs_dir)\n",
    "\n",
    "img_size = (128, 128)\n",
    "batch_size = 32\n",
    "\n",
    "train_ds = tf.keras.utils.image_dataset_from_directory(\n",
    "    base_dir,\n",
    "    validation_split=0.2,\n",
    "    subset=\"training\",\n",
    "    seed=123,\n",
    "    image_size=img_size,\n",
    "    batch_size=batch_size\n",
    ")\n",
    "\n",
    "val_ds = tf.keras.utils.image_dataset_from_directory(\n",
    "    base_dir,\n",
    "    validation_split=0.2,\n",
    "    subset=\"validation\",\n",
    "    seed=123,\n",
    "    image_size=img_size,\n",
    "    batch_size=batch_size\n",
    ")\n",
    "\n",
    "class_names = train_ds.class_names\n",
    "print(\"Classes:\", class_names)  # ['Cat','Dog']\n",
    "\n",
    "\n",
    "normalization_layer = layers.Rescaling(1./255)\n",
    "AUTOTUNE = tf.data.AUTOTUNE\n",
    "\n",
    "train_ds = train_ds.map(lambda x, y: (normalization_layer(x), y))\n",
    "val_ds = val_ds.map(lambda x, y: (normalization_layer(x), y))\n",
    "\n",
    "train_ds = train_ds.cache().shuffle(1000).prefetch(buffer_size=AUTOTUNE)\n",
    "val_ds = val_ds.cache().prefetch(buffer_size=AUTOTUNE)\n",
    "\n",
    "data_augmentation = keras.Sequential([\n",
    "    layers.RandomFlip(\"horizontal\"),\n",
    "    layers.RandomRotation(0.1),\n",
    "    layers.RandomZoom(0.1),\n",
    "])\n",
    "train_ds = train_ds.map(lambda x, y: (data_augmentation(x, training=True), y))\n",
    "\n",
    "\n",
    "model = keras.Sequential([\n",
    "    layers.Conv2D(32, (3,3), activation='relu', input_shape=(128,128,3)),\n",
    "    layers.BatchNormalization(),\n",
    "    layers.MaxPooling2D(2,2),\n",
    "\n",
    "    layers.Conv2D(64, (3,3), activation='relu'),\n",
    "    layers.BatchNormalization(),\n",
    "    layers.MaxPooling2D(2,2),\n",
    "\n",
    "    layers.Conv2D(128, (3,3), activation='relu'),\n",
    "    layers.BatchNormalization(),\n",
    "    layers.MaxPooling2D(2,2),\n",
    "\n",
    "    layers.Flatten(),\n",
    "    layers.Dense(128, activation='relu'),\n",
    "    layers.Dropout(0.5),\n",
    "    layers.Dense(1, activation='sigmoid')  # binary classification\n",
    "])\n",
    "\n",
    "model.compile(optimizer='adam',\n",
    "              loss='binary_crossentropy',\n",
    "              metrics=['accuracy'])\n",
    "\n",
    "model.summary()\n",
    "\n",
    "\n",
    "history = model.fit(\n",
    "    train_ds,\n",
    "    validation_data=val_ds,\n",
    "    epochs=15  #  increase to 20-25 for better accuracy\n",
    ")\n",
    "\n",
    "model.save(\"cats_dogs_cnn.h5\")\n",
    "\n",
    "loss, acc = model.evaluate(val_ds)\n",
    "print(f\"Final Validation Accuracy: {acc*100:.2f}%\")\n",
    "\n",
    "def predict_image(img_path):\n",
    "    img = cv2.imread(img_path)\n",
    "    img = cv2.resize(img, img_size)\n",
    "    img = img / 255.0\n",
    "    img = np.expand_dims(img, axis=0)\n",
    "\n",
    "    prediction = model.predict(img)[0][0]\n",
    "    label = \"Dog\" if prediction > 0.5 else \"Cat\"\n",
    "    confidence = prediction if prediction > 0.5 else 1 - prediction\n",
    "    print(f\"Prediction: {label} (confidence: {confidence:.2f})\")\n",
    "\n",
    "\n",
    "predict_image(r\"C:\\Users\\omi_i\\Downloads\\dog.jpg\")\n"
   ]
  },
  {
   "cell_type": "code",
   "execution_count": 37,
   "id": "146caf7d-940c-49a0-bf1d-4567a0d36435",
   "metadata": {
    "tags": []
   },
   "outputs": [
    {
     "name": "stderr",
     "output_type": "stream",
     "text": [
      "WARNING:absl:Compiled the loaded model, but the compiled metrics have yet to be built. `model.compile_metrics` will be empty until you train or evaluate the model.\n"
     ]
    }
   ],
   "source": [
    "from tensorflow.keras.models import load_model\n",
    "model = load_model(\"cats_dogs_cnn.h5\")"
   ]
  },
  {
   "cell_type": "code",
   "execution_count": 42,
   "id": "127439d5-6f08-434b-80b9-031a84c511c7",
   "metadata": {
    "tags": []
   },
   "outputs": [
    {
     "name": "stdout",
     "output_type": "stream",
     "text": [
      "\u001b[1m1/1\u001b[0m \u001b[32m━━━━━━━━━━━━━━━━━━━━\u001b[0m\u001b[37m\u001b[0m \u001b[1m0s\u001b[0m 75ms/step\n",
      "Prediction: Dog (confidence: 1.00)\n"
     ]
    }
   ],
   "source": [
    "def predict_image(img_path, class_names):\n",
    "    img = cv2.imread(img_path)\n",
    "    if img is None:\n",
    "        print(\"Image not found or cannot be read:\", img_path)\n",
    "        return\n",
    "\n",
    "    img = cv2.resize(img, img_size)\n",
    "    img = img / 255.0\n",
    "    img = np.expand_dims(img, axis=0)\n",
    "\n",
    "    prediction = model.predict(img)[0][0]\n",
    "\n",
    "    if prediction > 0.5:\n",
    "        label = class_names[1]\n",
    "        confidence = prediction\n",
    "    else:\n",
    "        label = class_names[0]\n",
    "        confidence = 1 - prediction\n",
    "\n",
    "    print(f\"Prediction: {label} (confidence: {confidence:.2f})\")\n",
    "\n",
    "# Usage\n",
    "predict_image(r\"C:\\Users\\omi_i\\Downloads\\download.jpg\", class_names)\n"
   ]
  },
  {
   "cell_type": "code",
   "execution_count": 59,
   "id": "c6fe461c-e1e9-49a5-b925-1e944658b90d",
   "metadata": {
    "tags": []
   },
   "outputs": [],
   "source": [
    "def extract_graph_features(img_path, patch_size=16):\n",
    "    try:\n",
    "        img = cv2.imread(img_path, cv2.IMREAD_GRAYSCALE)\n",
    "        if img is None or img.size == 0:\n",
    "            return None\n",
    "\n",
    "        img = cv2.resize(img, (128, 128))\n",
    "\n",
    "        # divide into patches\n",
    "        patches = []\n",
    "        for i in range(0, img.shape[0], patch_size):\n",
    "            for j in range(0, img.shape[1], patch_size):\n",
    "                patch = img[i:i+patch_size, j:j+patch_size]\n",
    "                if patch.size == 0:\n",
    "                    continue\n",
    "                patches.append(patch.flatten())  # keep pixel values\n",
    "\n",
    "        patches = np.array(patches)  # shape = (#patches, pixels_per_patch)\n",
    "\n",
    "        if patches.shape[0] < 2:\n",
    "            return None\n",
    "\n",
    "        # ✅ correlation between patches\n",
    "        corr_matrix = np.corrcoef(patches)\n",
    "        if np.isnan(corr_matrix).any():\n",
    "            return None\n",
    "\n",
    "        # build graph\n",
    "        G = nx.Graph()\n",
    "        n = corr_matrix.shape[0]\n",
    "        for i in range(n):\n",
    "            for j in range(i+1, n):\n",
    "                G.add_edge(i, j, weight=corr_matrix[i, j])\n",
    "\n",
    "        if G.number_of_nodes() == 0:\n",
    "            return None\n",
    "\n",
    "        # graph features\n",
    "        degree = np.mean([d for _, d in G.degree()])\n",
    "        clustering = nx.average_clustering(G, weight='weight')\n",
    "        efficiency = nx.global_efficiency(G)\n",
    "\n",
    "        return [degree, clustering, efficiency]\n",
    "\n",
    "    except Exception as e:\n",
    "        print(f\"Skipping {img_path} due to error: {e}\")\n",
    "        return None\n"
   ]
  },
  {
   "cell_type": "code",
   "execution_count": 64,
   "id": "aa888ce9-f59b-4203-922b-88b626de7ed0",
   "metadata": {
    "tags": []
   },
   "outputs": [
    {
     "name": "stderr",
     "output_type": "stream",
     "text": [
      "100%|██████████| 12405/12405 [03:18<00:00, 62.63it/s]\n",
      "100%|██████████| 12366/12366 [04:02<00:00, 51.06it/s]"
     ]
    },
    {
     "name": "stdout",
     "output_type": "stream",
     "text": [
      "Final feature matrix shape: (24771, 119)\n",
      "Final labels shape: (24771,)\n"
     ]
    },
    {
     "name": "stderr",
     "output_type": "stream",
     "text": [
      "\n"
     ]
    }
   ],
   "source": [
    "import os\n",
    "import cv2\n",
    "import numpy as np\n",
    "from tqdm import tqdm\n",
    "\n",
    "cats_dir = r\"C:\\Users\\omi_i\\Downloads\\archive\\PetImages\\Cat\"\n",
    "dogs_dir = r\"C:\\Users\\omi_i\\Downloads\\archive\\PetImages\\Dog\"\n",
    "\n",
    "img_size = (64, 64)  # smaller than 128x128 → faster\n",
    "\n",
    "def extract_features(img_path):\n",
    "    try:\n",
    "        img = cv2.imread(img_path)\n",
    "        if img is None:\n",
    "            return None\n",
    "\n",
    "        # Resize\n",
    "        img = cv2.resize(img, img_size)\n",
    "\n",
    "        # Convert to grayscale for texture\n",
    "        gray = cv2.cvtColor(img, cv2.COLOR_BGR2GRAY)\n",
    "\n",
    "        # --- 1. Basic intensity stats\n",
    "        mean_val = np.mean(gray)\n",
    "        std_val = np.std(gray)\n",
    "\n",
    "        # --- 2. Edge density\n",
    "        edges = cv2.Canny(gray, 100, 200)\n",
    "        edge_density = np.mean(edges > 0)\n",
    "\n",
    "        # --- 3. Histogram of pixel intensities (16 bins)\n",
    "        hist_gray = cv2.calcHist([gray], [0], None, [16], [0, 256]).flatten()\n",
    "        hist_gray = hist_gray / np.sum(hist_gray)  # normalize\n",
    "\n",
    "        # --- 4. HOG features (low-dim version)\n",
    "        hog = cv2.HOGDescriptor(\n",
    "            _winSize=(64, 64),\n",
    "            _blockSize=(16, 16),\n",
    "            _blockStride=(8, 8),\n",
    "            _cellSize=(8, 8),\n",
    "            _nbins=9,\n",
    "        )\n",
    "        hog_features = hog.compute(gray)\n",
    "        hog_features = hog_features.flatten()[:100]  # take first 100 for speed\n",
    "\n",
    "        # --- Final feature vector\n",
    "        return np.concatenate([[mean_val, std_val, edge_density], hist_gray, hog_features])\n",
    "    except:\n",
    "        return None\n",
    "\n",
    "# --- Loop over dataset ---\n",
    "features_list, labels_list = [], []\n",
    "\n",
    "for file in tqdm(os.listdir(cats_dir)):\n",
    "    f = extract_features(os.path.join(cats_dir, file))\n",
    "    if f is not None:\n",
    "        features_list.append(f)\n",
    "        labels_list.append(0)\n",
    "\n",
    "for file in tqdm(os.listdir(dogs_dir)):\n",
    "    f = extract_features(os.path.join(dogs_dir, file))\n",
    "    if f is not None:\n",
    "        features_list.append(f)\n",
    "        labels_list.append(1)\n",
    "\n",
    "features = np.array(features_list)\n",
    "labels = np.array(labels_list)\n",
    "\n",
    "print(\"Final feature matrix shape:\", features.shape)\n",
    "print(\"Final labels shape:\", labels.shape)\n"
   ]
  },
  {
   "cell_type": "code",
   "execution_count": null,
   "id": "444cb89a-28d6-45a0-ad5f-fffffc784f12",
   "metadata": {
    "tags": []
   },
   "outputs": [],
   "source": [
    "from sklearn.model_selection import train_test_split\n",
    "from xgboost import XGBClassifier\n",
    "\n",
    "X_train, X_test, y_train, y_test = train_test_split(\n",
    "    features, labels, test_size=0.2, random_state=42\n",
    ")\n",
    "\n",
    "model = XGBClassifier(\n",
    "    n_estimators=500,\n",
    "    max_depth=6,\n",
    "    learning_rate=0.1,\n",
    "    subsample=0.8,\n",
    "    colsample_bytree=0.8,\n",
    "    eval_metric=\"logloss\"\n",
    ")\n",
    "\n",
    "model.fit(X_train, y_train)\n",
    "accuracy = model.score(X_test, y_test)\n",
    "print(\"Test Accuracy:\", accuracy)\n"
   ]
  },
  {
   "cell_type": "code",
   "execution_count": null,
   "id": "4bb31086-021b-452c-9c99-f49010df5bf8",
   "metadata": {},
   "outputs": [],
   "source": []
  },
  {
   "cell_type": "code",
   "execution_count": null,
   "id": "56152223-570f-468b-a834-a76770d03ae9",
   "metadata": {},
   "outputs": [],
   "source": []
  },
  {
   "cell_type": "code",
   "execution_count": null,
   "id": "a1c451c1-46c6-4189-a1bd-90d9fba5396a",
   "metadata": {},
   "outputs": [],
   "source": []
  },
  {
   "cell_type": "code",
   "execution_count": null,
   "id": "29f2cbb8-de87-405a-bb13-54b9e9d93592",
   "metadata": {},
   "outputs": [],
   "source": []
  }
 ],
 "metadata": {
  "kernelspec": {
   "display_name": "Python 3 (ipykernel)",
   "language": "python",
   "name": "python3"
  },
  "language_info": {
   "codemirror_mode": {
    "name": "ipython",
    "version": 3
   },
   "file_extension": ".py",
   "mimetype": "text/x-python",
   "name": "python",
   "nbconvert_exporter": "python",
   "pygments_lexer": "ipython3",
   "version": "3.11.5"
  }
 },
 "nbformat": 4,
 "nbformat_minor": 5
}
